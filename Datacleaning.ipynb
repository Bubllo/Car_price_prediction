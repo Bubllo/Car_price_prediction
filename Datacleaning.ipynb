{
 "cells": [
  {
   "cell_type": "markdown",
   "metadata": {},
   "source": [
    "# Importing Libraries"
   ]
  },
  {
   "cell_type": "code",
   "execution_count": 1,
   "metadata": {},
   "outputs": [],
   "source": [
    "import numpy as np\n",
    "import pandas as pd\n",
    "import matplotlib.pyplot as plt\n",
    "import seaborn as sns"
   ]
  },
  {
   "cell_type": "markdown",
   "metadata": {},
   "source": [
    "# Reading Dataset"
   ]
  },
  {
   "cell_type": "code",
   "execution_count": 2,
   "metadata": {},
   "outputs": [
    {
     "data": {
      "text/html": [
       "<div>\n",
       "<style scoped>\n",
       "    .dataframe tbody tr th:only-of-type {\n",
       "        vertical-align: middle;\n",
       "    }\n",
       "\n",
       "    .dataframe tbody tr th {\n",
       "        vertical-align: top;\n",
       "    }\n",
       "\n",
       "    .dataframe thead th {\n",
       "        text-align: right;\n",
       "    }\n",
       "</style>\n",
       "<table border=\"1\" class=\"dataframe\">\n",
       "  <thead>\n",
       "    <tr style=\"text-align: right;\">\n",
       "      <th></th>\n",
       "      <th>it</th>\n",
       "      <th>ft</th>\n",
       "      <th>bt</th>\n",
       "      <th>km</th>\n",
       "      <th>transmission</th>\n",
       "      <th>ownerNo</th>\n",
       "      <th>owner</th>\n",
       "      <th>oem</th>\n",
       "      <th>model</th>\n",
       "      <th>modelYear</th>\n",
       "      <th>...</th>\n",
       "      <th>Feature_7</th>\n",
       "      <th>Feature_8</th>\n",
       "      <th>Feature_9</th>\n",
       "      <th>Mileage</th>\n",
       "      <th>Engine_spec</th>\n",
       "      <th>Power</th>\n",
       "      <th>Torque</th>\n",
       "      <th>wheel_dimension</th>\n",
       "      <th>seater</th>\n",
       "      <th>City</th>\n",
       "    </tr>\n",
       "  </thead>\n",
       "  <tbody>\n",
       "    <tr>\n",
       "      <th>0</th>\n",
       "      <td>0</td>\n",
       "      <td>Petrol</td>\n",
       "      <td>Hatchback</td>\n",
       "      <td>1,20,000</td>\n",
       "      <td>Manual</td>\n",
       "      <td>3</td>\n",
       "      <td>3rd Owner</td>\n",
       "      <td>Maruti</td>\n",
       "      <td>Maruti Celerio</td>\n",
       "      <td>2015</td>\n",
       "      <td>...</td>\n",
       "      <td>Centeral Locking</td>\n",
       "      <td>Child Safety Locks</td>\n",
       "      <td>NaN</td>\n",
       "      <td>23.1 kmpl</td>\n",
       "      <td>998 CC</td>\n",
       "      <td>67.04bhp</td>\n",
       "      <td>90Nm</td>\n",
       "      <td>5</td>\n",
       "      <td>NaN</td>\n",
       "      <td>Bangalore</td>\n",
       "    </tr>\n",
       "    <tr>\n",
       "      <th>1</th>\n",
       "      <td>0</td>\n",
       "      <td>Petrol</td>\n",
       "      <td>SUV</td>\n",
       "      <td>32,706</td>\n",
       "      <td>Manual</td>\n",
       "      <td>2</td>\n",
       "      <td>2nd Owner</td>\n",
       "      <td>Ford</td>\n",
       "      <td>Ford Ecosport</td>\n",
       "      <td>2018</td>\n",
       "      <td>...</td>\n",
       "      <td>Anti Lock Braking System</td>\n",
       "      <td>Centeral Locking</td>\n",
       "      <td>Cd Player</td>\n",
       "      <td>17 kmpl</td>\n",
       "      <td>1497 CC</td>\n",
       "      <td>121.31bhp</td>\n",
       "      <td>150Nm</td>\n",
       "      <td>16</td>\n",
       "      <td>5.0</td>\n",
       "      <td>Bangalore</td>\n",
       "    </tr>\n",
       "    <tr>\n",
       "      <th>2</th>\n",
       "      <td>0</td>\n",
       "      <td>Petrol</td>\n",
       "      <td>Hatchback</td>\n",
       "      <td>11,949</td>\n",
       "      <td>Manual</td>\n",
       "      <td>1</td>\n",
       "      <td>1st Owner</td>\n",
       "      <td>Tata</td>\n",
       "      <td>Tata Tiago</td>\n",
       "      <td>2018</td>\n",
       "      <td>...</td>\n",
       "      <td>Anti Lock Braking System</td>\n",
       "      <td>Centeral Locking</td>\n",
       "      <td>Cd Player</td>\n",
       "      <td>23.84 kmpl</td>\n",
       "      <td>1199 CC</td>\n",
       "      <td>84bhp</td>\n",
       "      <td>114Nm</td>\n",
       "      <td>14</td>\n",
       "      <td>5.0</td>\n",
       "      <td>Bangalore</td>\n",
       "    </tr>\n",
       "    <tr>\n",
       "      <th>3</th>\n",
       "      <td>0</td>\n",
       "      <td>Petrol</td>\n",
       "      <td>Sedan</td>\n",
       "      <td>17,794</td>\n",
       "      <td>Manual</td>\n",
       "      <td>1</td>\n",
       "      <td>1st Owner</td>\n",
       "      <td>Hyundai</td>\n",
       "      <td>Hyundai Xcent</td>\n",
       "      <td>2014</td>\n",
       "      <td>...</td>\n",
       "      <td>Anti Lock Braking System</td>\n",
       "      <td>Centeral Locking</td>\n",
       "      <td>Cd Player</td>\n",
       "      <td>19.1 kmpl</td>\n",
       "      <td>1197 CC</td>\n",
       "      <td>81.86bhp</td>\n",
       "      <td>113.75Nm</td>\n",
       "      <td>14</td>\n",
       "      <td>5.0</td>\n",
       "      <td>Bangalore</td>\n",
       "    </tr>\n",
       "    <tr>\n",
       "      <th>4</th>\n",
       "      <td>0</td>\n",
       "      <td>Diesel</td>\n",
       "      <td>SUV</td>\n",
       "      <td>60,000</td>\n",
       "      <td>Manual</td>\n",
       "      <td>1</td>\n",
       "      <td>1st Owner</td>\n",
       "      <td>Maruti</td>\n",
       "      <td>Maruti SX4 S Cross</td>\n",
       "      <td>2015</td>\n",
       "      <td>...</td>\n",
       "      <td>Anti Lock Braking System</td>\n",
       "      <td>Centeral Locking</td>\n",
       "      <td>Radio</td>\n",
       "      <td>23.65 kmpl</td>\n",
       "      <td>1248 CC</td>\n",
       "      <td>88.5bhp</td>\n",
       "      <td>200Nm</td>\n",
       "      <td>16</td>\n",
       "      <td>5.0</td>\n",
       "      <td>Bangalore</td>\n",
       "    </tr>\n",
       "  </tbody>\n",
       "</table>\n",
       "<p>5 rows × 45 columns</p>\n",
       "</div>"
      ],
      "text/plain": [
       "   it      ft         bt        km transmission  ownerNo      owner      oem  \\\n",
       "0   0  Petrol  Hatchback  1,20,000       Manual        3  3rd Owner   Maruti   \n",
       "1   0  Petrol        SUV    32,706       Manual        2  2nd Owner     Ford   \n",
       "2   0  Petrol  Hatchback    11,949       Manual        1  1st Owner     Tata   \n",
       "3   0  Petrol      Sedan    17,794       Manual        1  1st Owner  Hyundai   \n",
       "4   0  Diesel        SUV    60,000       Manual        1  1st Owner   Maruti   \n",
       "\n",
       "                model  modelYear  ...                 Feature_7  \\\n",
       "0      Maruti Celerio       2015  ...          Centeral Locking   \n",
       "1       Ford Ecosport       2018  ...  Anti Lock Braking System   \n",
       "2          Tata Tiago       2018  ...  Anti Lock Braking System   \n",
       "3       Hyundai Xcent       2014  ...  Anti Lock Braking System   \n",
       "4  Maruti SX4 S Cross       2015  ...  Anti Lock Braking System   \n",
       "\n",
       "            Feature_8  Feature_9     Mileage  Engine_spec      Power  \\\n",
       "0  Child Safety Locks        NaN   23.1 kmpl       998 CC   67.04bhp   \n",
       "1    Centeral Locking  Cd Player     17 kmpl      1497 CC  121.31bhp   \n",
       "2    Centeral Locking  Cd Player  23.84 kmpl      1199 CC      84bhp   \n",
       "3    Centeral Locking  Cd Player   19.1 kmpl      1197 CC   81.86bhp   \n",
       "4    Centeral Locking      Radio  23.65 kmpl      1248 CC    88.5bhp   \n",
       "\n",
       "     Torque wheel_dimension seater       City  \n",
       "0      90Nm               5    NaN  Bangalore  \n",
       "1     150Nm              16    5.0  Bangalore  \n",
       "2     114Nm              14    5.0  Bangalore  \n",
       "3  113.75Nm              14    5.0  Bangalore  \n",
       "4     200Nm              16    5.0  Bangalore  \n",
       "\n",
       "[5 rows x 45 columns]"
      ]
     },
     "execution_count": 2,
     "metadata": {},
     "output_type": "execute_result"
    }
   ],
   "source": [
    "data = pd.read_csv(\"Cars_dataset.csv\")\n",
    "data.head()"
   ]
  },
  {
   "cell_type": "markdown",
   "metadata": {},
   "source": [
    "# Selecting Important Column based on General knowledge"
   ]
  },
  {
   "cell_type": "code",
   "execution_count": 3,
   "metadata": {},
   "outputs": [
    {
     "name": "stdout",
     "output_type": "stream",
     "text": [
      "<class 'pandas.core.frame.DataFrame'>\n",
      "RangeIndex: 8369 entries, 0 to 8368\n",
      "Data columns (total 45 columns):\n",
      " #   Column               Non-Null Count  Dtype  \n",
      "---  ------               --------------  -----  \n",
      " 0   it                   8369 non-null   int64  \n",
      " 1   ft                   8369 non-null   object \n",
      " 2   bt                   8365 non-null   object \n",
      " 3   km                   8369 non-null   object \n",
      " 4   transmission         8369 non-null   object \n",
      " 5   ownerNo              8369 non-null   int64  \n",
      " 6   owner                8369 non-null   object \n",
      " 7   oem                  8369 non-null   object \n",
      " 8   model                8369 non-null   object \n",
      " 9   modelYear            8369 non-null   int64  \n",
      " 10  centralVariantId     8369 non-null   int64  \n",
      " 11  variantName          8369 non-null   object \n",
      " 12  price                8369 non-null   object \n",
      " 13  priceActual          1670 non-null   object \n",
      " 14  priceSaving          0 non-null      float64\n",
      " 15  priceFixedText       0 non-null      float64\n",
      " 16  imgUrl               8369 non-null   object \n",
      " 17  heading              8369 non-null   object \n",
      " 18  description          8369 non-null   object \n",
      " 19  Registration Year    8369 non-null   object \n",
      " 20  Insurance_Type       8369 non-null   object \n",
      " 21  Fuel                 8369 non-null   object \n",
      " 22  Seats                8369 non-null   object \n",
      " 23  Kms Driven           8369 non-null   object \n",
      " 24  RTO                  8363 non-null   object \n",
      " 25  Ownership            8368 non-null   object \n",
      " 26  Engine Displacement  8331 non-null   object \n",
      " 27  Transmission         8315 non-null   object \n",
      " 28  Year_of_manufacture  7454 non-null   float64\n",
      " 29  Feature_1            8304 non-null   object \n",
      " 30  Feature_2            8304 non-null   object \n",
      " 31  Feature_3            8294 non-null   object \n",
      " 32  Feature_4            8293 non-null   object \n",
      " 33  Feature_5            8283 non-null   object \n",
      " 34  Feature_6            8275 non-null   object \n",
      " 35  Feature_7            8261 non-null   object \n",
      " 36  Feature_8            8242 non-null   object \n",
      " 37  Feature_9            7267 non-null   object \n",
      " 38  Mileage              8369 non-null   object \n",
      " 39  Engine_spec          8368 non-null   object \n",
      " 40  Power                8361 non-null   object \n",
      " 41  Torque               8341 non-null   object \n",
      " 42  wheel_dimension      8249 non-null   object \n",
      " 43  seater               5126 non-null   float64\n",
      " 44  City                 8369 non-null   object \n",
      "dtypes: float64(4), int64(4), object(37)\n",
      "memory usage: 2.9+ MB\n"
     ]
    }
   ],
   "source": [
    "data.info()"
   ]
  },
  {
   "cell_type": "code",
   "execution_count": 4,
   "metadata": {},
   "outputs": [
    {
     "data": {
      "text/plain": [
       "array([0])"
      ]
     },
     "execution_count": 4,
     "metadata": {},
     "output_type": "execute_result"
    }
   ],
   "source": [
    "data['it'].unique()"
   ]
  },
  {
   "cell_type": "markdown",
   "metadata": {},
   "source": [
    "## Dropping \"it\" Column"
   ]
  },
  {
   "cell_type": "code",
   "execution_count": 6,
   "metadata": {},
   "outputs": [],
   "source": [
    "data.drop(columns='it',axis =1, inplace = True)"
   ]
  },
  {
   "cell_type": "markdown",
   "metadata": {},
   "source": [
    "## Dropping owner column\n",
    "    -> onwerNo and Owner gives the same data"
   ]
  },
  {
   "cell_type": "code",
   "execution_count": 7,
   "metadata": {},
   "outputs": [],
   "source": [
    "data.drop(columns='owner',axis=1,inplace =True)"
   ]
  },
  {
   "cell_type": "markdown",
   "metadata": {},
   "source": [
    "## Dropping CentralVariantId as it is not important to predict the model price"
   ]
  },
  {
   "cell_type": "code",
   "execution_count": 9,
   "metadata": {},
   "outputs": [],
   "source": [
    "data.drop(columns='centralVariantId',axis=1,inplace=True)"
   ]
  },
  {
   "cell_type": "markdown",
   "metadata": {},
   "source": [
    "## Dropping actual price"
   ]
  },
  {
   "cell_type": "code",
   "execution_count": 15,
   "metadata": {},
   "outputs": [
    {
     "data": {
      "text/plain": [
       "(8369, 42)"
      ]
     },
     "execution_count": 15,
     "metadata": {},
     "output_type": "execute_result"
    }
   ],
   "source": [
    "data.shape"
   ]
  },
  {
   "cell_type": "code",
   "execution_count": 14,
   "metadata": {},
   "outputs": [
    {
     "data": {
      "text/plain": [
       "6699"
      ]
     },
     "execution_count": 14,
     "metadata": {},
     "output_type": "execute_result"
    }
   ],
   "source": [
    "data['priceActual'].isnull().sum()"
   ]
  },
  {
   "cell_type": "code",
   "execution_count": 16,
   "metadata": {},
   "outputs": [
    {
     "name": "stdout",
     "output_type": "stream",
     "text": [
      "80.04540566375911\n"
     ]
    }
   ],
   "source": [
    "print((6699/8369)*100)"
   ]
  },
  {
   "cell_type": "code",
   "execution_count": 17,
   "metadata": {},
   "outputs": [],
   "source": [
    "data.drop(columns='priceActual',axis =1, inplace = True)"
   ]
  },
  {
   "cell_type": "markdown",
   "metadata": {},
   "source": [
    "## Dropping price savings as it is not need for price prediction"
   ]
  },
  {
   "cell_type": "code",
   "execution_count": 19,
   "metadata": {},
   "outputs": [],
   "source": [
    "data.drop(columns='priceSaving',axis =1, inplace =True)"
   ]
  },
  {
   "cell_type": "markdown",
   "metadata": {},
   "source": [
    "## Dropping pricefixedtext"
   ]
  },
  {
   "cell_type": "code",
   "execution_count": 20,
   "metadata": {},
   "outputs": [],
   "source": [
    "data.drop(columns='priceFixedText', axis = 1, inplace = True)"
   ]
  },
  {
   "cell_type": "markdown",
   "metadata": {},
   "source": [
    "## Dropping ImgUrl"
   ]
  },
  {
   "cell_type": "code",
   "execution_count": 22,
   "metadata": {},
   "outputs": [],
   "source": [
    "data.drop(columns='imgUrl', axis = 1, inplace = True)"
   ]
  },
  {
   "cell_type": "code",
   "execution_count": 23,
   "metadata": {},
   "outputs": [],
   "source": [
    "data.drop(columns='heading', axis =1, inplace = True)"
   ]
  },
  {
   "cell_type": "code",
   "execution_count": 24,
   "metadata": {},
   "outputs": [
    {
     "data": {
      "text/plain": [
       "array(['High chances of sale in next 6 days'], dtype=object)"
      ]
     },
     "execution_count": 24,
     "metadata": {},
     "output_type": "execute_result"
    }
   ],
   "source": [
    "data['description'].unique()"
   ]
  },
  {
   "cell_type": "code",
   "execution_count": 25,
   "metadata": {},
   "outputs": [],
   "source": [
    "data.drop(columns='description', axis = 1, inplace = True)"
   ]
  },
  {
   "cell_type": "code",
   "execution_count": 26,
   "metadata": {},
   "outputs": [],
   "source": [
    "data.drop(columns='Fuel', axis = 1, inplace = True)"
   ]
  },
  {
   "cell_type": "code",
   "execution_count": 27,
   "metadata": {},
   "outputs": [],
   "source": [
    "data.drop(columns='Kms Driven', axis = 1, inplace = True)"
   ]
  },
  {
   "cell_type": "code",
   "execution_count": 28,
   "metadata": {},
   "outputs": [],
   "source": [
    "data.drop(columns='RTO', axis = 1, inplace = True)"
   ]
  },
  {
   "cell_type": "code",
   "execution_count": 29,
   "metadata": {},
   "outputs": [],
   "source": [
    "data.drop(columns='Ownership', axis = 1, inplace = True)"
   ]
  },
  {
   "cell_type": "code",
   "execution_count": 30,
   "metadata": {},
   "outputs": [],
   "source": [
    "data.drop(columns='Transmission', axis = 1, inplace = True)"
   ]
  },
  {
   "cell_type": "code",
   "execution_count": 31,
   "metadata": {},
   "outputs": [],
   "source": [
    "data.drop(columns='Engine Displacement', axis = 1, inplace = True)"
   ]
  },
  {
   "cell_type": "code",
   "execution_count": 32,
   "metadata": {},
   "outputs": [],
   "source": [
    "data.drop(columns='Power', axis = 1, inplace = True)"
   ]
  },
  {
   "cell_type": "code",
   "execution_count": 33,
   "metadata": {},
   "outputs": [],
   "source": [
    "data.drop(columns='Torque', axis = 1, inplace = True)"
   ]
  },
  {
   "cell_type": "code",
   "execution_count": 34,
   "metadata": {},
   "outputs": [],
   "source": [
    "data.drop(columns='wheel_dimension', axis = 1, inplace = True)"
   ]
  },
  {
   "cell_type": "code",
   "execution_count": 35,
   "metadata": {},
   "outputs": [],
   "source": [
    "data.drop(columns='seater', axis = 1, inplace = True)"
   ]
  },
  {
   "cell_type": "code",
   "execution_count": 38,
   "metadata": {},
   "outputs": [],
   "source": [
    "data.drop(columns='Year_of_manufacture', axis = 1, inplace = True)"
   ]
  },
  {
   "cell_type": "markdown",
   "metadata": {},
   "source": [
    "# Checking Dataset"
   ]
  },
  {
   "cell_type": "code",
   "execution_count": 39,
   "metadata": {},
   "outputs": [
    {
     "data": {
      "text/html": [
       "<div>\n",
       "<style scoped>\n",
       "    .dataframe tbody tr th:only-of-type {\n",
       "        vertical-align: middle;\n",
       "    }\n",
       "\n",
       "    .dataframe tbody tr th {\n",
       "        vertical-align: top;\n",
       "    }\n",
       "\n",
       "    .dataframe thead th {\n",
       "        text-align: right;\n",
       "    }\n",
       "</style>\n",
       "<table border=\"1\" class=\"dataframe\">\n",
       "  <thead>\n",
       "    <tr style=\"text-align: right;\">\n",
       "      <th></th>\n",
       "      <th>ft</th>\n",
       "      <th>bt</th>\n",
       "      <th>km</th>\n",
       "      <th>transmission</th>\n",
       "      <th>ownerNo</th>\n",
       "      <th>oem</th>\n",
       "      <th>model</th>\n",
       "      <th>modelYear</th>\n",
       "      <th>variantName</th>\n",
       "      <th>price</th>\n",
       "      <th>...</th>\n",
       "      <th>Feature_3</th>\n",
       "      <th>Feature_4</th>\n",
       "      <th>Feature_5</th>\n",
       "      <th>Feature_6</th>\n",
       "      <th>Feature_7</th>\n",
       "      <th>Feature_8</th>\n",
       "      <th>Feature_9</th>\n",
       "      <th>Mileage</th>\n",
       "      <th>Engine_spec</th>\n",
       "      <th>City</th>\n",
       "    </tr>\n",
       "  </thead>\n",
       "  <tbody>\n",
       "    <tr>\n",
       "      <th>0</th>\n",
       "      <td>Petrol</td>\n",
       "      <td>Hatchback</td>\n",
       "      <td>1,20,000</td>\n",
       "      <td>Manual</td>\n",
       "      <td>3</td>\n",
       "      <td>Maruti</td>\n",
       "      <td>Maruti Celerio</td>\n",
       "      <td>2015</td>\n",
       "      <td>VXI</td>\n",
       "      <td>₹ 4 Lakh</td>\n",
       "      <td>...</td>\n",
       "      <td>Air Conditioner</td>\n",
       "      <td>Heater</td>\n",
       "      <td>Adjustable Head Lights</td>\n",
       "      <td>Manually Adjustable Exterior Rear View Mirror</td>\n",
       "      <td>Centeral Locking</td>\n",
       "      <td>Child Safety Locks</td>\n",
       "      <td>NaN</td>\n",
       "      <td>23.1 kmpl</td>\n",
       "      <td>998 CC</td>\n",
       "      <td>Bangalore</td>\n",
       "    </tr>\n",
       "    <tr>\n",
       "      <th>1</th>\n",
       "      <td>Petrol</td>\n",
       "      <td>SUV</td>\n",
       "      <td>32,706</td>\n",
       "      <td>Manual</td>\n",
       "      <td>2</td>\n",
       "      <td>Ford</td>\n",
       "      <td>Ford Ecosport</td>\n",
       "      <td>2018</td>\n",
       "      <td>1.5 Petrol Titanium BSIV</td>\n",
       "      <td>₹ 8.11 Lakh</td>\n",
       "      <td>...</td>\n",
       "      <td>Air Conditioner</td>\n",
       "      <td>Heater</td>\n",
       "      <td>Adjustable Head Lights</td>\n",
       "      <td>Fog Lights Front</td>\n",
       "      <td>Anti Lock Braking System</td>\n",
       "      <td>Centeral Locking</td>\n",
       "      <td>Cd Player</td>\n",
       "      <td>17 kmpl</td>\n",
       "      <td>1497 CC</td>\n",
       "      <td>Bangalore</td>\n",
       "    </tr>\n",
       "    <tr>\n",
       "      <th>2</th>\n",
       "      <td>Petrol</td>\n",
       "      <td>Hatchback</td>\n",
       "      <td>11,949</td>\n",
       "      <td>Manual</td>\n",
       "      <td>1</td>\n",
       "      <td>Tata</td>\n",
       "      <td>Tata Tiago</td>\n",
       "      <td>2018</td>\n",
       "      <td>1.2 Revotron XZ</td>\n",
       "      <td>₹ 5.85 Lakh</td>\n",
       "      <td>...</td>\n",
       "      <td>Air Conditioner</td>\n",
       "      <td>Heater</td>\n",
       "      <td>Adjustable Head Lights</td>\n",
       "      <td>Fog Lights Front</td>\n",
       "      <td>Anti Lock Braking System</td>\n",
       "      <td>Centeral Locking</td>\n",
       "      <td>Cd Player</td>\n",
       "      <td>23.84 kmpl</td>\n",
       "      <td>1199 CC</td>\n",
       "      <td>Bangalore</td>\n",
       "    </tr>\n",
       "    <tr>\n",
       "      <th>3</th>\n",
       "      <td>Petrol</td>\n",
       "      <td>Sedan</td>\n",
       "      <td>17,794</td>\n",
       "      <td>Manual</td>\n",
       "      <td>1</td>\n",
       "      <td>Hyundai</td>\n",
       "      <td>Hyundai Xcent</td>\n",
       "      <td>2014</td>\n",
       "      <td>1.2 Kappa S Option</td>\n",
       "      <td>₹ 4.62 Lakh</td>\n",
       "      <td>...</td>\n",
       "      <td>Air Conditioner</td>\n",
       "      <td>Heater</td>\n",
       "      <td>Adjustable Head Lights</td>\n",
       "      <td>Fog Lights Front</td>\n",
       "      <td>Anti Lock Braking System</td>\n",
       "      <td>Centeral Locking</td>\n",
       "      <td>Cd Player</td>\n",
       "      <td>19.1 kmpl</td>\n",
       "      <td>1197 CC</td>\n",
       "      <td>Bangalore</td>\n",
       "    </tr>\n",
       "    <tr>\n",
       "      <th>4</th>\n",
       "      <td>Diesel</td>\n",
       "      <td>SUV</td>\n",
       "      <td>60,000</td>\n",
       "      <td>Manual</td>\n",
       "      <td>1</td>\n",
       "      <td>Maruti</td>\n",
       "      <td>Maruti SX4 S Cross</td>\n",
       "      <td>2015</td>\n",
       "      <td>DDiS 200 Zeta</td>\n",
       "      <td>₹ 7.90 Lakh</td>\n",
       "      <td>...</td>\n",
       "      <td>Air Conditioner</td>\n",
       "      <td>Heater</td>\n",
       "      <td>Adjustable Head Lights</td>\n",
       "      <td>Fog Lights Front</td>\n",
       "      <td>Anti Lock Braking System</td>\n",
       "      <td>Centeral Locking</td>\n",
       "      <td>Radio</td>\n",
       "      <td>23.65 kmpl</td>\n",
       "      <td>1248 CC</td>\n",
       "      <td>Bangalore</td>\n",
       "    </tr>\n",
       "  </tbody>\n",
       "</table>\n",
       "<p>5 rows × 25 columns</p>\n",
       "</div>"
      ],
      "text/plain": [
       "       ft         bt        km transmission  ownerNo      oem  \\\n",
       "0  Petrol  Hatchback  1,20,000       Manual        3   Maruti   \n",
       "1  Petrol        SUV    32,706       Manual        2     Ford   \n",
       "2  Petrol  Hatchback    11,949       Manual        1     Tata   \n",
       "3  Petrol      Sedan    17,794       Manual        1  Hyundai   \n",
       "4  Diesel        SUV    60,000       Manual        1   Maruti   \n",
       "\n",
       "                model  modelYear               variantName        price  ...  \\\n",
       "0      Maruti Celerio       2015                       VXI     ₹ 4 Lakh  ...   \n",
       "1       Ford Ecosport       2018  1.5 Petrol Titanium BSIV  ₹ 8.11 Lakh  ...   \n",
       "2          Tata Tiago       2018           1.2 Revotron XZ  ₹ 5.85 Lakh  ...   \n",
       "3       Hyundai Xcent       2014        1.2 Kappa S Option  ₹ 4.62 Lakh  ...   \n",
       "4  Maruti SX4 S Cross       2015             DDiS 200 Zeta  ₹ 7.90 Lakh  ...   \n",
       "\n",
       "         Feature_3 Feature_4               Feature_5  \\\n",
       "0  Air Conditioner    Heater  Adjustable Head Lights   \n",
       "1  Air Conditioner    Heater  Adjustable Head Lights   \n",
       "2  Air Conditioner    Heater  Adjustable Head Lights   \n",
       "3  Air Conditioner    Heater  Adjustable Head Lights   \n",
       "4  Air Conditioner    Heater  Adjustable Head Lights   \n",
       "\n",
       "                                       Feature_6                 Feature_7  \\\n",
       "0  Manually Adjustable Exterior Rear View Mirror          Centeral Locking   \n",
       "1                               Fog Lights Front  Anti Lock Braking System   \n",
       "2                               Fog Lights Front  Anti Lock Braking System   \n",
       "3                               Fog Lights Front  Anti Lock Braking System   \n",
       "4                               Fog Lights Front  Anti Lock Braking System   \n",
       "\n",
       "            Feature_8  Feature_9     Mileage Engine_spec       City  \n",
       "0  Child Safety Locks        NaN   23.1 kmpl      998 CC  Bangalore  \n",
       "1    Centeral Locking  Cd Player     17 kmpl     1497 CC  Bangalore  \n",
       "2    Centeral Locking  Cd Player  23.84 kmpl     1199 CC  Bangalore  \n",
       "3    Centeral Locking  Cd Player   19.1 kmpl     1197 CC  Bangalore  \n",
       "4    Centeral Locking      Radio  23.65 kmpl     1248 CC  Bangalore  \n",
       "\n",
       "[5 rows x 25 columns]"
      ]
     },
     "execution_count": 39,
     "metadata": {},
     "output_type": "execute_result"
    }
   ],
   "source": [
    "data.head()"
   ]
  },
  {
   "cell_type": "code",
   "execution_count": 40,
   "metadata": {},
   "outputs": [
    {
     "name": "stdout",
     "output_type": "stream",
     "text": [
      "<class 'pandas.core.frame.DataFrame'>\n",
      "RangeIndex: 8369 entries, 0 to 8368\n",
      "Data columns (total 25 columns):\n",
      " #   Column             Non-Null Count  Dtype \n",
      "---  ------             --------------  ----- \n",
      " 0   ft                 8369 non-null   object\n",
      " 1   bt                 8365 non-null   object\n",
      " 2   km                 8369 non-null   object\n",
      " 3   transmission       8369 non-null   object\n",
      " 4   ownerNo            8369 non-null   int64 \n",
      " 5   oem                8369 non-null   object\n",
      " 6   model              8369 non-null   object\n",
      " 7   modelYear          8369 non-null   int64 \n",
      " 8   variantName        8369 non-null   object\n",
      " 9   price              8369 non-null   object\n",
      " 10  Registration Year  8369 non-null   object\n",
      " 11  Insurance_Type     8369 non-null   object\n",
      " 12  Seats              8369 non-null   object\n",
      " 13  Feature_1          8304 non-null   object\n",
      " 14  Feature_2          8304 non-null   object\n",
      " 15  Feature_3          8294 non-null   object\n",
      " 16  Feature_4          8293 non-null   object\n",
      " 17  Feature_5          8283 non-null   object\n",
      " 18  Feature_6          8275 non-null   object\n",
      " 19  Feature_7          8261 non-null   object\n",
      " 20  Feature_8          8242 non-null   object\n",
      " 21  Feature_9          7267 non-null   object\n",
      " 22  Mileage            8369 non-null   object\n",
      " 23  Engine_spec        8368 non-null   object\n",
      " 24  City               8369 non-null   object\n",
      "dtypes: int64(2), object(23)\n",
      "memory usage: 1.6+ MB\n"
     ]
    }
   ],
   "source": [
    "data.info()"
   ]
  },
  {
   "cell_type": "code",
   "execution_count": 41,
   "metadata": {},
   "outputs": [],
   "source": [
    "data.to_csv(\"Dataset.csv\")"
   ]
  },
  {
   "cell_type": "code",
   "execution_count": null,
   "metadata": {},
   "outputs": [],
   "source": []
  }
 ],
 "metadata": {
  "kernelspec": {
   "display_name": "base",
   "language": "python",
   "name": "python3"
  },
  "language_info": {
   "codemirror_mode": {
    "name": "ipython",
    "version": 3
   },
   "file_extension": ".py",
   "mimetype": "text/x-python",
   "name": "python",
   "nbconvert_exporter": "python",
   "pygments_lexer": "ipython3",
   "version": "3.11.4"
  }
 },
 "nbformat": 4,
 "nbformat_minor": 2
}
