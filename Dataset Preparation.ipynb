{
 "cells": [
  {
   "cell_type": "markdown",
   "metadata": {},
   "source": [
    "# Importing Libraries"
   ]
  },
  {
   "cell_type": "code",
   "execution_count": 1,
   "metadata": {},
   "outputs": [],
   "source": [
    "import pandas as pd\n",
    "import numpy as np\n",
    "import matplotlib.pyplot as plt\n",
    "import seaborn as sns"
   ]
  },
  {
   "cell_type": "markdown",
   "metadata": {},
   "source": [
    "# Importing Dataset"
   ]
  },
  {
   "cell_type": "code",
   "execution_count": 2,
   "metadata": {},
   "outputs": [
    {
     "data": {
      "text/html": [
       "<div>\n",
       "<style scoped>\n",
       "    .dataframe tbody tr th:only-of-type {\n",
       "        vertical-align: middle;\n",
       "    }\n",
       "\n",
       "    .dataframe tbody tr th {\n",
       "        vertical-align: top;\n",
       "    }\n",
       "\n",
       "    .dataframe thead th {\n",
       "        text-align: right;\n",
       "    }\n",
       "</style>\n",
       "<table border=\"1\" class=\"dataframe\">\n",
       "  <thead>\n",
       "    <tr style=\"text-align: right;\">\n",
       "      <th></th>\n",
       "      <th>ft</th>\n",
       "      <th>bt</th>\n",
       "      <th>km</th>\n",
       "      <th>transmission</th>\n",
       "      <th>ownerNo</th>\n",
       "      <th>oem</th>\n",
       "      <th>model</th>\n",
       "      <th>modelYear</th>\n",
       "      <th>variantName</th>\n",
       "      <th>price</th>\n",
       "      <th>...</th>\n",
       "      <th>Feature_4</th>\n",
       "      <th>Feature_5</th>\n",
       "      <th>Feature_6</th>\n",
       "      <th>Feature_7</th>\n",
       "      <th>Feature_8</th>\n",
       "      <th>Feature_9</th>\n",
       "      <th>Mileage</th>\n",
       "      <th>Engine_spec</th>\n",
       "      <th>seater</th>\n",
       "      <th>City</th>\n",
       "    </tr>\n",
       "  </thead>\n",
       "  <tbody>\n",
       "    <tr>\n",
       "      <th>0</th>\n",
       "      <td>Petrol</td>\n",
       "      <td>Hatchback</td>\n",
       "      <td>1,20,000</td>\n",
       "      <td>Manual</td>\n",
       "      <td>3</td>\n",
       "      <td>Maruti</td>\n",
       "      <td>Maruti Celerio</td>\n",
       "      <td>2015</td>\n",
       "      <td>VXI</td>\n",
       "      <td>₹ 4 Lakh</td>\n",
       "      <td>...</td>\n",
       "      <td>Heater</td>\n",
       "      <td>Adjustable Head Lights</td>\n",
       "      <td>Manually Adjustable Exterior Rear View Mirror</td>\n",
       "      <td>Centeral Locking</td>\n",
       "      <td>Child Safety Locks</td>\n",
       "      <td>NaN</td>\n",
       "      <td>23.1 kmpl</td>\n",
       "      <td>998 CC</td>\n",
       "      <td>NaN</td>\n",
       "      <td>Bangalore</td>\n",
       "    </tr>\n",
       "    <tr>\n",
       "      <th>1</th>\n",
       "      <td>Petrol</td>\n",
       "      <td>SUV</td>\n",
       "      <td>32,706</td>\n",
       "      <td>Manual</td>\n",
       "      <td>2</td>\n",
       "      <td>Ford</td>\n",
       "      <td>Ford Ecosport</td>\n",
       "      <td>2018</td>\n",
       "      <td>1.5 Petrol Titanium BSIV</td>\n",
       "      <td>₹ 8.11 Lakh</td>\n",
       "      <td>...</td>\n",
       "      <td>Heater</td>\n",
       "      <td>Adjustable Head Lights</td>\n",
       "      <td>Fog Lights Front</td>\n",
       "      <td>Anti Lock Braking System</td>\n",
       "      <td>Centeral Locking</td>\n",
       "      <td>Cd Player</td>\n",
       "      <td>17 kmpl</td>\n",
       "      <td>1497 CC</td>\n",
       "      <td>5.0</td>\n",
       "      <td>Bangalore</td>\n",
       "    </tr>\n",
       "    <tr>\n",
       "      <th>2</th>\n",
       "      <td>Petrol</td>\n",
       "      <td>Hatchback</td>\n",
       "      <td>11,949</td>\n",
       "      <td>Manual</td>\n",
       "      <td>1</td>\n",
       "      <td>Tata</td>\n",
       "      <td>Tata Tiago</td>\n",
       "      <td>2018</td>\n",
       "      <td>1.2 Revotron XZ</td>\n",
       "      <td>₹ 5.85 Lakh</td>\n",
       "      <td>...</td>\n",
       "      <td>Heater</td>\n",
       "      <td>Adjustable Head Lights</td>\n",
       "      <td>Fog Lights Front</td>\n",
       "      <td>Anti Lock Braking System</td>\n",
       "      <td>Centeral Locking</td>\n",
       "      <td>Cd Player</td>\n",
       "      <td>23.84 kmpl</td>\n",
       "      <td>1199 CC</td>\n",
       "      <td>5.0</td>\n",
       "      <td>Bangalore</td>\n",
       "    </tr>\n",
       "    <tr>\n",
       "      <th>3</th>\n",
       "      <td>Petrol</td>\n",
       "      <td>Sedan</td>\n",
       "      <td>17,794</td>\n",
       "      <td>Manual</td>\n",
       "      <td>1</td>\n",
       "      <td>Hyundai</td>\n",
       "      <td>Hyundai Xcent</td>\n",
       "      <td>2014</td>\n",
       "      <td>1.2 Kappa S Option</td>\n",
       "      <td>₹ 4.62 Lakh</td>\n",
       "      <td>...</td>\n",
       "      <td>Heater</td>\n",
       "      <td>Adjustable Head Lights</td>\n",
       "      <td>Fog Lights Front</td>\n",
       "      <td>Anti Lock Braking System</td>\n",
       "      <td>Centeral Locking</td>\n",
       "      <td>Cd Player</td>\n",
       "      <td>19.1 kmpl</td>\n",
       "      <td>1197 CC</td>\n",
       "      <td>5.0</td>\n",
       "      <td>Bangalore</td>\n",
       "    </tr>\n",
       "    <tr>\n",
       "      <th>4</th>\n",
       "      <td>Diesel</td>\n",
       "      <td>SUV</td>\n",
       "      <td>60,000</td>\n",
       "      <td>Manual</td>\n",
       "      <td>1</td>\n",
       "      <td>Maruti</td>\n",
       "      <td>Maruti SX4 S Cross</td>\n",
       "      <td>2015</td>\n",
       "      <td>DDiS 200 Zeta</td>\n",
       "      <td>₹ 7.90 Lakh</td>\n",
       "      <td>...</td>\n",
       "      <td>Heater</td>\n",
       "      <td>Adjustable Head Lights</td>\n",
       "      <td>Fog Lights Front</td>\n",
       "      <td>Anti Lock Braking System</td>\n",
       "      <td>Centeral Locking</td>\n",
       "      <td>Radio</td>\n",
       "      <td>23.65 kmpl</td>\n",
       "      <td>1248 CC</td>\n",
       "      <td>5.0</td>\n",
       "      <td>Bangalore</td>\n",
       "    </tr>\n",
       "  </tbody>\n",
       "</table>\n",
       "<p>5 rows × 25 columns</p>\n",
       "</div>"
      ],
      "text/plain": [
       "       ft         bt        km transmission  ownerNo      oem  \\\n",
       "0  Petrol  Hatchback  1,20,000       Manual        3   Maruti   \n",
       "1  Petrol        SUV    32,706       Manual        2     Ford   \n",
       "2  Petrol  Hatchback    11,949       Manual        1     Tata   \n",
       "3  Petrol      Sedan    17,794       Manual        1  Hyundai   \n",
       "4  Diesel        SUV    60,000       Manual        1   Maruti   \n",
       "\n",
       "                model  modelYear               variantName        price  ...  \\\n",
       "0      Maruti Celerio       2015                       VXI     ₹ 4 Lakh  ...   \n",
       "1       Ford Ecosport       2018  1.5 Petrol Titanium BSIV  ₹ 8.11 Lakh  ...   \n",
       "2          Tata Tiago       2018           1.2 Revotron XZ  ₹ 5.85 Lakh  ...   \n",
       "3       Hyundai Xcent       2014        1.2 Kappa S Option  ₹ 4.62 Lakh  ...   \n",
       "4  Maruti SX4 S Cross       2015             DDiS 200 Zeta  ₹ 7.90 Lakh  ...   \n",
       "\n",
       "  Feature_4               Feature_5  \\\n",
       "0    Heater  Adjustable Head Lights   \n",
       "1    Heater  Adjustable Head Lights   \n",
       "2    Heater  Adjustable Head Lights   \n",
       "3    Heater  Adjustable Head Lights   \n",
       "4    Heater  Adjustable Head Lights   \n",
       "\n",
       "                                       Feature_6                 Feature_7  \\\n",
       "0  Manually Adjustable Exterior Rear View Mirror          Centeral Locking   \n",
       "1                               Fog Lights Front  Anti Lock Braking System   \n",
       "2                               Fog Lights Front  Anti Lock Braking System   \n",
       "3                               Fog Lights Front  Anti Lock Braking System   \n",
       "4                               Fog Lights Front  Anti Lock Braking System   \n",
       "\n",
       "            Feature_8  Feature_9     Mileage Engine_spec seater       City  \n",
       "0  Child Safety Locks        NaN   23.1 kmpl      998 CC    NaN  Bangalore  \n",
       "1    Centeral Locking  Cd Player     17 kmpl     1497 CC    5.0  Bangalore  \n",
       "2    Centeral Locking  Cd Player  23.84 kmpl     1199 CC    5.0  Bangalore  \n",
       "3    Centeral Locking  Cd Player   19.1 kmpl     1197 CC    5.0  Bangalore  \n",
       "4    Centeral Locking      Radio  23.65 kmpl     1248 CC    5.0  Bangalore  \n",
       "\n",
       "[5 rows x 25 columns]"
      ]
     },
     "execution_count": 2,
     "metadata": {},
     "output_type": "execute_result"
    }
   ],
   "source": [
    "data = pd.read_csv('Dataset.csv')\n",
    "data.head()"
   ]
  },
  {
   "cell_type": "code",
   "execution_count": 3,
   "metadata": {},
   "outputs": [
    {
     "data": {
      "text/html": [
       "<div>\n",
       "<style scoped>\n",
       "    .dataframe tbody tr th:only-of-type {\n",
       "        vertical-align: middle;\n",
       "    }\n",
       "\n",
       "    .dataframe tbody tr th {\n",
       "        vertical-align: top;\n",
       "    }\n",
       "\n",
       "    .dataframe thead th {\n",
       "        text-align: right;\n",
       "    }\n",
       "</style>\n",
       "<table border=\"1\" class=\"dataframe\">\n",
       "  <thead>\n",
       "    <tr style=\"text-align: right;\">\n",
       "      <th></th>\n",
       "      <th>ft</th>\n",
       "      <th>bt</th>\n",
       "      <th>km</th>\n",
       "      <th>transmission</th>\n",
       "      <th>ownerNo</th>\n",
       "      <th>oem</th>\n",
       "      <th>model</th>\n",
       "      <th>modelYear</th>\n",
       "      <th>variantName</th>\n",
       "      <th>price</th>\n",
       "      <th>...</th>\n",
       "      <th>Feature_4</th>\n",
       "      <th>Feature_5</th>\n",
       "      <th>Feature_6</th>\n",
       "      <th>Feature_7</th>\n",
       "      <th>Feature_8</th>\n",
       "      <th>Feature_9</th>\n",
       "      <th>Mileage</th>\n",
       "      <th>Engine_spec</th>\n",
       "      <th>seater</th>\n",
       "      <th>City</th>\n",
       "    </tr>\n",
       "  </thead>\n",
       "  <tbody>\n",
       "    <tr>\n",
       "      <th>8364</th>\n",
       "      <td>Petrol</td>\n",
       "      <td>Hatchback</td>\n",
       "      <td>10,000</td>\n",
       "      <td>Manual</td>\n",
       "      <td>1</td>\n",
       "      <td>Maruti</td>\n",
       "      <td>Maruti Celerio</td>\n",
       "      <td>2022</td>\n",
       "      <td>ZXI BSVI</td>\n",
       "      <td>₹ 5.10 Lakh</td>\n",
       "      <td>...</td>\n",
       "      <td>Heater</td>\n",
       "      <td>Adjustable Head Lights</td>\n",
       "      <td>Power Adjustable Exterior Rear View Mirror</td>\n",
       "      <td>Anti Lock Braking System</td>\n",
       "      <td>Centeral Locking</td>\n",
       "      <td>Radio</td>\n",
       "      <td>25.24 kmpl</td>\n",
       "      <td>998 CC</td>\n",
       "      <td>NaN</td>\n",
       "      <td>Kolkata</td>\n",
       "    </tr>\n",
       "    <tr>\n",
       "      <th>8365</th>\n",
       "      <td>Petrol</td>\n",
       "      <td>Hatchback</td>\n",
       "      <td>1,20,000</td>\n",
       "      <td>Manual</td>\n",
       "      <td>1</td>\n",
       "      <td>Maruti</td>\n",
       "      <td>Maruti Alto 800</td>\n",
       "      <td>2014</td>\n",
       "      <td>LXI</td>\n",
       "      <td>₹ 1.80 Lakh</td>\n",
       "      <td>...</td>\n",
       "      <td>Heater</td>\n",
       "      <td>Adjustable Head Lights</td>\n",
       "      <td>Manually Adjustable Exterior Rear View Mirror</td>\n",
       "      <td>Day Night Rear View Mirror</td>\n",
       "      <td>Passenger Side Rear View Mirror</td>\n",
       "      <td>NaN</td>\n",
       "      <td>22.74 kmpl</td>\n",
       "      <td>796 CC</td>\n",
       "      <td>NaN</td>\n",
       "      <td>Kolkata</td>\n",
       "    </tr>\n",
       "    <tr>\n",
       "      <th>8366</th>\n",
       "      <td>Petrol</td>\n",
       "      <td>Sedan</td>\n",
       "      <td>50,000</td>\n",
       "      <td>Automatic</td>\n",
       "      <td>3</td>\n",
       "      <td>Mercedes-Benz</td>\n",
       "      <td>Mercedes-Benz C-Class</td>\n",
       "      <td>2011</td>\n",
       "      <td>C 200 CGI Elegance</td>\n",
       "      <td>₹ 5.50 Lakh</td>\n",
       "      <td>...</td>\n",
       "      <td>Heater</td>\n",
       "      <td>Adjustable Head Lights</td>\n",
       "      <td>Fog Lights Front</td>\n",
       "      <td>Anti Lock Braking System</td>\n",
       "      <td>Brake Assist</td>\n",
       "      <td>Cd Player</td>\n",
       "      <td>11.74 kmpl</td>\n",
       "      <td>1796 CC</td>\n",
       "      <td>5.0</td>\n",
       "      <td>Kolkata</td>\n",
       "    </tr>\n",
       "    <tr>\n",
       "      <th>8367</th>\n",
       "      <td>Petrol</td>\n",
       "      <td>Hatchback</td>\n",
       "      <td>40,000</td>\n",
       "      <td>Manual</td>\n",
       "      <td>1</td>\n",
       "      <td>Maruti</td>\n",
       "      <td>Maruti Ritz</td>\n",
       "      <td>2012</td>\n",
       "      <td>ZXi</td>\n",
       "      <td>₹ 1.40 Lakh</td>\n",
       "      <td>...</td>\n",
       "      <td>Heater</td>\n",
       "      <td>Adjustable Head Lights</td>\n",
       "      <td>Fog Lights Front</td>\n",
       "      <td>Anti Lock Braking System</td>\n",
       "      <td>Centeral Locking</td>\n",
       "      <td>Cd Player</td>\n",
       "      <td>18.5 kmpl</td>\n",
       "      <td>1197 CC</td>\n",
       "      <td>5.0</td>\n",
       "      <td>Kolkata</td>\n",
       "    </tr>\n",
       "    <tr>\n",
       "      <th>8368</th>\n",
       "      <td>Diesel</td>\n",
       "      <td>SUV</td>\n",
       "      <td>1,20,000</td>\n",
       "      <td>Manual</td>\n",
       "      <td>2</td>\n",
       "      <td>Renault</td>\n",
       "      <td>Renault Duster</td>\n",
       "      <td>2017</td>\n",
       "      <td>110PS Diesel RxZ AWD</td>\n",
       "      <td>₹ 5 Lakh</td>\n",
       "      <td>...</td>\n",
       "      <td>Heater</td>\n",
       "      <td>Adjustable Head Lights</td>\n",
       "      <td>Fog Lights Front</td>\n",
       "      <td>Anti Lock Braking System</td>\n",
       "      <td>Brake Assist</td>\n",
       "      <td>Cd Player</td>\n",
       "      <td>19.72 kmpl</td>\n",
       "      <td>1461 CC</td>\n",
       "      <td>5.0</td>\n",
       "      <td>Kolkata</td>\n",
       "    </tr>\n",
       "  </tbody>\n",
       "</table>\n",
       "<p>5 rows × 25 columns</p>\n",
       "</div>"
      ],
      "text/plain": [
       "          ft         bt        km transmission  ownerNo            oem  \\\n",
       "8364  Petrol  Hatchback    10,000       Manual        1         Maruti   \n",
       "8365  Petrol  Hatchback  1,20,000       Manual        1         Maruti   \n",
       "8366  Petrol      Sedan    50,000    Automatic        3  Mercedes-Benz   \n",
       "8367  Petrol  Hatchback    40,000       Manual        1         Maruti   \n",
       "8368  Diesel        SUV  1,20,000       Manual        2        Renault   \n",
       "\n",
       "                      model  modelYear           variantName        price  \\\n",
       "8364         Maruti Celerio       2022              ZXI BSVI  ₹ 5.10 Lakh   \n",
       "8365        Maruti Alto 800       2014                   LXI  ₹ 1.80 Lakh   \n",
       "8366  Mercedes-Benz C-Class       2011    C 200 CGI Elegance  ₹ 5.50 Lakh   \n",
       "8367            Maruti Ritz       2012                   ZXi  ₹ 1.40 Lakh   \n",
       "8368         Renault Duster       2017  110PS Diesel RxZ AWD     ₹ 5 Lakh   \n",
       "\n",
       "      ... Feature_4               Feature_5  \\\n",
       "8364  ...    Heater  Adjustable Head Lights   \n",
       "8365  ...    Heater  Adjustable Head Lights   \n",
       "8366  ...    Heater  Adjustable Head Lights   \n",
       "8367  ...    Heater  Adjustable Head Lights   \n",
       "8368  ...    Heater  Adjustable Head Lights   \n",
       "\n",
       "                                          Feature_6  \\\n",
       "8364     Power Adjustable Exterior Rear View Mirror   \n",
       "8365  Manually Adjustable Exterior Rear View Mirror   \n",
       "8366                               Fog Lights Front   \n",
       "8367                               Fog Lights Front   \n",
       "8368                               Fog Lights Front   \n",
       "\n",
       "                       Feature_7                        Feature_8  Feature_9  \\\n",
       "8364    Anti Lock Braking System                 Centeral Locking      Radio   \n",
       "8365  Day Night Rear View Mirror  Passenger Side Rear View Mirror        NaN   \n",
       "8366    Anti Lock Braking System                     Brake Assist  Cd Player   \n",
       "8367    Anti Lock Braking System                 Centeral Locking  Cd Player   \n",
       "8368    Anti Lock Braking System                     Brake Assist  Cd Player   \n",
       "\n",
       "         Mileage Engine_spec seater     City  \n",
       "8364  25.24 kmpl      998 CC    NaN  Kolkata  \n",
       "8365  22.74 kmpl      796 CC    NaN  Kolkata  \n",
       "8366  11.74 kmpl     1796 CC    5.0  Kolkata  \n",
       "8367   18.5 kmpl     1197 CC    5.0  Kolkata  \n",
       "8368  19.72 kmpl     1461 CC    5.0  Kolkata  \n",
       "\n",
       "[5 rows x 25 columns]"
      ]
     },
     "execution_count": 3,
     "metadata": {},
     "output_type": "execute_result"
    }
   ],
   "source": [
    "data.tail()"
   ]
  },
  {
   "cell_type": "code",
   "execution_count": 4,
   "metadata": {},
   "outputs": [
    {
     "data": {
      "text/plain": [
       "(8369, 25)"
      ]
     },
     "execution_count": 4,
     "metadata": {},
     "output_type": "execute_result"
    }
   ],
   "source": [
    "data.shape"
   ]
  },
  {
   "cell_type": "code",
   "execution_count": 5,
   "metadata": {},
   "outputs": [
    {
     "name": "stdout",
     "output_type": "stream",
     "text": [
      "<class 'pandas.core.frame.DataFrame'>\n",
      "RangeIndex: 8369 entries, 0 to 8368\n",
      "Data columns (total 25 columns):\n",
      " #   Column             Non-Null Count  Dtype  \n",
      "---  ------             --------------  -----  \n",
      " 0   ft                 8369 non-null   object \n",
      " 1   bt                 8365 non-null   object \n",
      " 2   km                 8369 non-null   object \n",
      " 3   transmission       8369 non-null   object \n",
      " 4   ownerNo            8369 non-null   int64  \n",
      " 5   oem                8369 non-null   object \n",
      " 6   model              8369 non-null   object \n",
      " 7   modelYear          8369 non-null   int64  \n",
      " 8   variantName        8369 non-null   object \n",
      " 9   price              8369 non-null   object \n",
      " 10  Registration Year  8369 non-null   object \n",
      " 11  Insurance_Type     8369 non-null   object \n",
      " 12  Feature_1          8304 non-null   object \n",
      " 13  Feature_2          8304 non-null   object \n",
      " 14  Feature_3          8294 non-null   object \n",
      " 15  Feature_4          8293 non-null   object \n",
      " 16  Feature_5          8283 non-null   object \n",
      " 17  Feature_6          8275 non-null   object \n",
      " 18  Feature_7          8261 non-null   object \n",
      " 19  Feature_8          8242 non-null   object \n",
      " 20  Feature_9          7267 non-null   object \n",
      " 21  Mileage            8369 non-null   object \n",
      " 22  Engine_spec        8368 non-null   object \n",
      " 23  seater             5126 non-null   float64\n",
      " 24  City               8369 non-null   object \n",
      "dtypes: float64(1), int64(2), object(22)\n",
      "memory usage: 1.6+ MB\n"
     ]
    }
   ],
   "source": [
    "data.info()"
   ]
  },
  {
   "cell_type": "markdown",
   "metadata": {},
   "source": [
    "# DataTypes Conversion"
   ]
  },
  {
   "cell_type": "code",
   "execution_count": 6,
   "metadata": {},
   "outputs": [
    {
     "data": {
      "text/plain": [
       "0       1,20,000\n",
       "1         32,706\n",
       "2         11,949\n",
       "3         17,794\n",
       "4         60,000\n",
       "          ...   \n",
       "8364      10,000\n",
       "8365    1,20,000\n",
       "8366      50,000\n",
       "8367      40,000\n",
       "8368    1,20,000\n",
       "Name: km, Length: 8369, dtype: object"
      ]
     },
     "execution_count": 6,
     "metadata": {},
     "output_type": "execute_result"
    }
   ],
   "source": [
    "data['km']"
   ]
  },
  {
   "cell_type": "code",
   "execution_count": 7,
   "metadata": {},
   "outputs": [],
   "source": [
    "data['km'] = data['km'].astype(str).str.replace(\",\",\"\").str.strip()\n",
    "data['km'] = data['km'].astype(int)"
   ]
  },
  {
   "cell_type": "code",
   "execution_count": 8,
   "metadata": {},
   "outputs": [],
   "source": [
    "data['ownerNo'] = data['ownerNo'].astype(int)"
   ]
  },
  {
   "cell_type": "code",
   "execution_count": 9,
   "metadata": {},
   "outputs": [
    {
     "data": {
      "text/plain": [
       "0          ₹ 4 Lakh\n",
       "1       ₹ 8.11 Lakh\n",
       "2       ₹ 5.85 Lakh\n",
       "3       ₹ 4.62 Lakh\n",
       "4       ₹ 7.90 Lakh\n",
       "           ...     \n",
       "8364    ₹ 5.10 Lakh\n",
       "8365    ₹ 1.80 Lakh\n",
       "8366    ₹ 5.50 Lakh\n",
       "8367    ₹ 1.40 Lakh\n",
       "8368       ₹ 5 Lakh\n",
       "Name: price, Length: 8369, dtype: object"
      ]
     },
     "execution_count": 9,
     "metadata": {},
     "output_type": "execute_result"
    }
   ],
   "source": [
    "data['price']"
   ]
  },
  {
   "cell_type": "code",
   "execution_count": 10,
   "metadata": {},
   "outputs": [],
   "source": [
    "def convert_price(price):\n",
    "    price = price.replace(\"₹\", \"\").replace(\",\", \"\").strip()\n",
    "    if 'Lakh' in price:\n",
    "        return float(price.replace(\"Lakh\", \"\").strip()) * 10000\n",
    "    elif 'Crore' in price:\n",
    "        return float(price.replace(\"Crore\", \"\").strip()) * 100000\n",
    "    else:\n",
    "        return float(price)\n",
    "\n",
    "# Apply the conversion function to the price column\n",
    "data['price'] = data['price'].apply(convert_price)"
   ]
  },
  {
   "cell_type": "code",
   "execution_count": 11,
   "metadata": {},
   "outputs": [
    {
     "data": {
      "text/plain": [
       "0            2015\n",
       "1        Feb 2018\n",
       "2       Sept 2018\n",
       "3        Dec 2014\n",
       "4            2015\n",
       "          ...    \n",
       "8364         2022\n",
       "8365         2014\n",
       "8366         2011\n",
       "8367         2012\n",
       "8368         2017\n",
       "Name: Registration Year, Length: 8369, dtype: object"
      ]
     },
     "execution_count": 11,
     "metadata": {},
     "output_type": "execute_result"
    }
   ],
   "source": [
    "data['Registration Year']"
   ]
  },
  {
   "cell_type": "code",
   "execution_count": 12,
   "metadata": {},
   "outputs": [],
   "source": [
    "month = ['Jan','Feb','Mar','Apr','May','Jun','Jul','Aug','Sept','Oct','Nov','Dec']\n",
    "\n",
    "def remove_month(date):\n",
    "    for i in month:\n",
    "        date = date.replace(i,'').strip()\n",
    "    return date\n",
    "\n",
    "data['Registration Year'] = data['Registration Year'].apply(remove_month)"
   ]
  },
  {
   "cell_type": "code",
   "execution_count": 13,
   "metadata": {},
   "outputs": [
    {
     "data": {
      "text/plain": [
       "2018                     979\n",
       "2017                     938\n",
       "2016                     801\n",
       "2019                     799\n",
       "2021                     690\n",
       "2020                     640\n",
       "2014                     592\n",
       "2022                     571\n",
       "2015                     570\n",
       "2013                     383\n",
       "2012                     332\n",
       "2011                     274\n",
       "2010                     246\n",
       "2009                     141\n",
       "2023                     116\n",
       "2008                      81\n",
       "2007                      54\n",
       "2006                      42\n",
       "Third Party insurance     42\n",
       "2004                      25\n",
       "2005                      20\n",
       "2003                      13\n",
       "2002                      10\n",
       "Comprehensive              7\n",
       "Third Party                2\n",
       "Not Available              1\n",
       "Name: Registration Year, dtype: int64"
      ]
     },
     "execution_count": 13,
     "metadata": {},
     "output_type": "execute_result"
    }
   ],
   "source": [
    "data['Registration Year'].value_counts()"
   ]
  },
  {
   "cell_type": "code",
   "execution_count": 14,
   "metadata": {},
   "outputs": [],
   "source": [
    "data['Registration Year'] = data.apply(\n",
    "    lambda row: row['modelYear'] if row['Registration Year'] in ['Third Party insurance', 'Comprehensive','Third Party','Not Available'] else row['Registration Year'],\n",
    "    axis=1\n",
    ")"
   ]
  },
  {
   "cell_type": "code",
   "execution_count": 15,
   "metadata": {},
   "outputs": [
    {
     "data": {
      "text/plain": [
       "array(['2015', '2018', '2014', '2020', '2017', '2021', '2019', '2022',\n",
       "       '2016', '2011', '2009', '2013', '2010', '2008', '2006', '2012',\n",
       "       '2005', '2007', '2023', 1995, 1998, '2004', '2003', 2001, '2002',\n",
       "       2000, 2017, 2018, 2016, 2019, 2007, 2014, 2021, 2020, 2009, 2015,\n",
       "       2013, 2008, 2010, 2022, 2023, 1985, 1997, 1999], dtype=object)"
      ]
     },
     "execution_count": 15,
     "metadata": {},
     "output_type": "execute_result"
    }
   ],
   "source": [
    "data['Registration Year'].unique()"
   ]
  },
  {
   "cell_type": "code",
   "execution_count": 16,
   "metadata": {},
   "outputs": [],
   "source": [
    "data.drop(data[data['Insurance_Type'].isin(['1', '2014', '2018', '2', '2019', 'Electric'])].index, inplace=True)"
   ]
  },
  {
   "cell_type": "code",
   "execution_count": 17,
   "metadata": {},
   "outputs": [
    {
     "data": {
      "text/plain": [
       "array(['Third Party insurance', 'Comprehensive', 'Third Party',\n",
       "       'Zero Dep', 'Petrol', 'Diesel', 'Not Available'], dtype=object)"
      ]
     },
     "execution_count": 17,
     "metadata": {},
     "output_type": "execute_result"
    }
   ],
   "source": [
    "data['Insurance_Type'].unique()"
   ]
  },
  {
   "cell_type": "code",
   "execution_count": 18,
   "metadata": {},
   "outputs": [
    {
     "name": "stdout",
     "output_type": "stream",
     "text": [
      "<class 'pandas.core.frame.DataFrame'>\n",
      "Int64Index: 8364 entries, 0 to 8368\n",
      "Data columns (total 25 columns):\n",
      " #   Column             Non-Null Count  Dtype  \n",
      "---  ------             --------------  -----  \n",
      " 0   ft                 8364 non-null   object \n",
      " 1   bt                 8360 non-null   object \n",
      " 2   km                 8364 non-null   int64  \n",
      " 3   transmission       8364 non-null   object \n",
      " 4   ownerNo            8364 non-null   int64  \n",
      " 5   oem                8364 non-null   object \n",
      " 6   model              8364 non-null   object \n",
      " 7   modelYear          8364 non-null   int64  \n",
      " 8   variantName        8364 non-null   object \n",
      " 9   price              8364 non-null   float64\n",
      " 10  Registration Year  8364 non-null   object \n",
      " 11  Insurance_Type     8364 non-null   object \n",
      " 12  Feature_1          8299 non-null   object \n",
      " 13  Feature_2          8299 non-null   object \n",
      " 14  Feature_3          8289 non-null   object \n",
      " 15  Feature_4          8288 non-null   object \n",
      " 16  Feature_5          8278 non-null   object \n",
      " 17  Feature_6          8270 non-null   object \n",
      " 18  Feature_7          8256 non-null   object \n",
      " 19  Feature_8          8237 non-null   object \n",
      " 20  Feature_9          7264 non-null   object \n",
      " 21  Mileage            8364 non-null   object \n",
      " 22  Engine_spec        8363 non-null   object \n",
      " 23  seater             5124 non-null   float64\n",
      " 24  City               8364 non-null   object \n",
      "dtypes: float64(2), int64(3), object(20)\n",
      "memory usage: 1.7+ MB\n"
     ]
    }
   ],
   "source": [
    "data.info()"
   ]
  },
  {
   "cell_type": "code",
   "execution_count": 19,
   "metadata": {},
   "outputs": [
    {
     "data": {
      "text/plain": [
       "array(['Power Steering', 'Power Windows Front', nan, 'Cup Holders Front',\n",
       "       'Remote Trunk Opener', 'Accessory Power Outlet',\n",
       "       'Remote Fuel Lid Opener', 'Low Fuel Warning Light', 'Trunk Light',\n",
       "       'Cruise Control', 'Drive Modes', 'Adjustable Head Lights',\n",
       "       'Leather Seats'], dtype=object)"
      ]
     },
     "execution_count": 19,
     "metadata": {},
     "output_type": "execute_result"
    }
   ],
   "source": [
    "data['Feature_1'].unique()"
   ]
  },
  {
   "cell_type": "code",
   "execution_count": 20,
   "metadata": {},
   "outputs": [
    {
     "data": {
      "text/plain": [
       "array(['Power Windows Front', 'Remote Trunk Opener', 'Power Windows Rear',\n",
       "       'Remote Fuel Lid Opener', nan, 'Low Fuel Warning Light',\n",
       "       'Navigation System', 'Rear Seat Headrest', 'Heater', 'Tachometer',\n",
       "       'Accessory Power Outlet', 'Air Quality Control', 'Vanity Mirror',\n",
       "       'Multifunction Steering Wheel', 'Drive Modes', 'Cup Holders Front',\n",
       "       'Leather Seats', 'Electronic Multi Tripmeter', 'Fog Lights Front',\n",
       "       'Air Conditioner', 'Fabric Upholstery', 'Trunk Light',\n",
       "       'Alloy Wheels'], dtype=object)"
      ]
     },
     "execution_count": 20,
     "metadata": {},
     "output_type": "execute_result"
    }
   ],
   "source": [
    "data['Feature_2'].unique()"
   ]
  },
  {
   "cell_type": "code",
   "execution_count": 21,
   "metadata": {},
   "outputs": [
    {
     "data": {
      "text/plain": [
       "0        23.1 kmpl\n",
       "1          17 kmpl\n",
       "2       23.84 kmpl\n",
       "3        19.1 kmpl\n",
       "4       23.65 kmpl\n",
       "           ...    \n",
       "8364    25.24 kmpl\n",
       "8365    22.74 kmpl\n",
       "8366    11.74 kmpl\n",
       "8367     18.5 kmpl\n",
       "8368    19.72 kmpl\n",
       "Name: Mileage, Length: 8364, dtype: object"
      ]
     },
     "execution_count": 21,
     "metadata": {},
     "output_type": "execute_result"
    }
   ],
   "source": [
    "data['Mileage']"
   ]
  },
  {
   "cell_type": "code",
   "execution_count": 22,
   "metadata": {},
   "outputs": [],
   "source": [
    "data.rename(columns={'Mileage':'Mileage kmpl'},inplace=True)"
   ]
  },
  {
   "cell_type": "code",
   "execution_count": 23,
   "metadata": {},
   "outputs": [],
   "source": [
    "data[\"Mileage kmpl\"] = data['Mileage kmpl'].astype(str).str.replace(\"kmpl\",\"\").str.replace(\"CC\",\"\").str.replace(\"km/kg\",\"\").str.strip()"
   ]
  },
  {
   "cell_type": "code",
   "execution_count": 24,
   "metadata": {},
   "outputs": [],
   "source": [
    "data['Mileage kmpl'] = pd.to_numeric(data['Mileage kmpl'])"
   ]
  },
  {
   "cell_type": "code",
   "execution_count": 25,
   "metadata": {},
   "outputs": [],
   "source": [
    "data.rename(columns={'Engine_spec':'Engine CC'},inplace=True)"
   ]
  },
  {
   "cell_type": "code",
   "execution_count": 26,
   "metadata": {},
   "outputs": [],
   "source": [
    "data[\"Engine CC\"] = data['Engine CC'].astype(str).str.replace(\"CC\",\"\").str.replace(\"Bhp\",\"\").str.replace(\"bhp\",\"\").str.replace(\"-\",\"\").replace(\"rpm\",\"\").str.strip()"
   ]
  },
  {
   "cell_type": "code",
   "execution_count": 27,
   "metadata": {},
   "outputs": [],
   "source": [
    "data['seater'] = pd.to_numeric(data['seater'])"
   ]
  },
  {
   "cell_type": "code",
   "execution_count": 28,
   "metadata": {},
   "outputs": [
    {
     "name": "stdout",
     "output_type": "stream",
     "text": [
      "<class 'pandas.core.frame.DataFrame'>\n",
      "Int64Index: 8364 entries, 0 to 8368\n",
      "Data columns (total 25 columns):\n",
      " #   Column             Non-Null Count  Dtype  \n",
      "---  ------             --------------  -----  \n",
      " 0   ft                 8364 non-null   object \n",
      " 1   bt                 8360 non-null   object \n",
      " 2   km                 8364 non-null   int64  \n",
      " 3   transmission       8364 non-null   object \n",
      " 4   ownerNo            8364 non-null   int64  \n",
      " 5   oem                8364 non-null   object \n",
      " 6   model              8364 non-null   object \n",
      " 7   modelYear          8364 non-null   int64  \n",
      " 8   variantName        8364 non-null   object \n",
      " 9   price              8364 non-null   float64\n",
      " 10  Registration Year  8364 non-null   object \n",
      " 11  Insurance_Type     8364 non-null   object \n",
      " 12  Feature_1          8299 non-null   object \n",
      " 13  Feature_2          8299 non-null   object \n",
      " 14  Feature_3          8289 non-null   object \n",
      " 15  Feature_4          8288 non-null   object \n",
      " 16  Feature_5          8278 non-null   object \n",
      " 17  Feature_6          8270 non-null   object \n",
      " 18  Feature_7          8256 non-null   object \n",
      " 19  Feature_8          8237 non-null   object \n",
      " 20  Feature_9          7264 non-null   object \n",
      " 21  Mileage kmpl       8364 non-null   float64\n",
      " 22  Engine CC          8364 non-null   object \n",
      " 23  seater             5124 non-null   float64\n",
      " 24  City               8364 non-null   object \n",
      "dtypes: float64(3), int64(3), object(19)\n",
      "memory usage: 1.7+ MB\n"
     ]
    }
   ],
   "source": [
    "data.info()"
   ]
  },
  {
   "cell_type": "code",
   "execution_count": 29,
   "metadata": {},
   "outputs": [],
   "source": [
    "data.to_csv(\"Cleaned__dataset.csv\",index=False)"
   ]
  },
  {
   "cell_type": "code",
   "execution_count": null,
   "metadata": {},
   "outputs": [],
   "source": []
  }
 ],
 "metadata": {
  "kernelspec": {
   "display_name": "base",
   "language": "python",
   "name": "python3"
  },
  "language_info": {
   "codemirror_mode": {
    "name": "ipython",
    "version": 3
   },
   "file_extension": ".py",
   "mimetype": "text/x-python",
   "name": "python",
   "nbconvert_exporter": "python",
   "pygments_lexer": "ipython3",
   "version": "3.11.4"
  }
 },
 "nbformat": 4,
 "nbformat_minor": 2
}
